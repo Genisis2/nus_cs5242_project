{
 "cells": [
  {
   "cell_type": "markdown",
   "metadata": {},
   "source": [
    "# CS5242 Project - Object Detection For Happier Meals"
   ]
  },
  {
   "cell_type": "markdown",
   "metadata": {},
   "source": [
    "## Authors (Group 53)"
   ]
  },
  {
   "cell_type": "markdown",
   "metadata": {},
   "source": [
    "- Abichandani, Harshavardhan Sunil (A0250610X; e0945792@u.nus.edu)\n",
    "- Golong, Hans Christian (A0254246E; e0954647@u.nus.edu) \n",
    "- Kumar, Aditya Ganesh (A0254356B); e0954757@u.nus.edu)"
   ]
  },
  {
   "cell_type": "markdown",
   "metadata": {},
   "source": [
    "## Introduction"
   ]
  },
  {
   "cell_type": "markdown",
   "metadata": {},
   "source": [
    "Speedy service is of utmost importance in McDonald’s (McD) fast-food restaurants. However, mistakes often come with speed, such as in the form of incorrect orders. Such situations lead to customer dissatisfaction and loss of efficiency as staff triage the situation.\n",
    "\n",
    "Six hundred people were surveyed, and 31% said McDonald's messes up their orders.\n",
    "\n",
    "To tackle this issue, we leverage object detection models. Our object detection model will detect the items on the food tray and cross-check them against the order receipt. The whole process will be automated and essentially make human error 0.\n",
    "This mechanism will be deployed at the pick-up counter right before the customer is alerted to collect their order."
   ]
  },
  {
   "cell_type": "markdown",
   "metadata": {},
   "source": [
    "## Methodology"
   ]
  },
  {
   "cell_type": "markdown",
   "metadata": {},
   "source": [
    "We will focus on building the object detection model to return one/more instances of the object(s) in frame. We will be limiting our object detection to the following three classes: burgers, drinks, and fries. \n",
    "\n",
    "We intend to build a dataset that consists of images of McD food items on trays. We will only consider images that are still properly in their packaging and on trays, as the order will have just come out of the kitchen.\n",
    "\n",
    "Using this dataset, we will train a variety of models to detect the McD food items in each image. For this, we have chosen to implement and train three neural network models, a vanilla R-CNN model, a Fast R-CNN model, and a YOLO model."
   ]
  },
  {
   "cell_type": "markdown",
   "metadata": {},
   "source": [
    "## GitHub and GDrive Links"
   ]
  },
  {
   "cell_type": "markdown",
   "metadata": {},
   "source": [
    "This source code can also be found hosted on GitHub through this link: https://github.com/Genisis2/nus_cs5242_project"
   ]
  },
  {
   "cell_type": "markdown",
   "metadata": {},
   "source": [
    "Our data and training weights can be found in the GDrive links below. \"Viewer\" permission has been assigned to anyone who tries to access the links below.\n",
    "\n",
    "- Dataset: [mcdondalds_food_items_dataset.zip](https://drive.google.com/file/d/1WpEMUjqeHUDMy4pnpB509xcxIuoqk11a/view?usp=share_link)\n",
    "- Training weights: [training_outputs](https://drive.google.com/drive/folders/1WwTMPfrslSRZOdhuOiPR6g2FELSZvtOb?usp=share_link)\n",
    "- Raw images collected from data collection: [data](https://drive.google.com/drive/folders/1SC1nXB7uGnzJpeU_AYcDb3yvh3zdMXoS?usp=share_link)"
   ]
  },
  {
   "cell_type": "markdown",
   "metadata": {},
   "source": [
    "## Data Collection And Analysis"
   ]
  },
  {
   "cell_type": "markdown",
   "metadata": {},
   "source": [
    "For our process of building a labelled dataset, please refer to [notebooks/1_project_group53_data_collection.ipynb](notebooks/1_project_group53_data_collection.ipynb).\n",
    "\n",
    "For our analysis of our collected data, please refer to [notebooks/2_project_group53_data_analysis.ipynb](notebooks/2_project_group53_data_analysis.ipynb)."
   ]
  },
  {
   "cell_type": "markdown",
   "metadata": {},
   "source": [
    "## R-CNN Implementations"
   ]
  },
  {
   "cell_type": "markdown",
   "metadata": {},
   "source": [
    "Please refer to [notebooks/3_project_group53_rcnn.ipynb](notebooks/1_project_group53_data.ipynb)"
   ]
  },
  {
   "cell_type": "markdown",
   "metadata": {},
   "source": [
    "## YOLO Implementation"
   ]
  },
  {
   "cell_type": "markdown",
   "metadata": {},
   "source": [
    "Please refer to [notebooks/4_project_group53_yolo.ipynb](notebooks/4_project_group53_yolo.ipynb)"
   ]
  },
  {
   "cell_type": "markdown",
   "metadata": {},
   "source": [
    "## Evaluation"
   ]
  },
  {
   "cell_type": "markdown",
   "metadata": {},
   "source": [
    "| Metric | VRCNN | FRCNN | Yolo\n",
    "|----|----|----|----|\n",
    "|mAp | 0.75 | 0.831 | 0.852 \n",
    "|Inference Time | 8s/image | 2s/image | 0.6s/image"
   ]
  },
  {
   "cell_type": "markdown",
   "metadata": {},
   "source": [
    "## Conclusion and Future Works"
   ]
  },
  {
   "cell_type": "markdown",
   "metadata": {},
   "source": [
    "We have created and tested three object detection models. Each of them is better than the previous one.\n",
    "\n",
    "Since speed is of utmost importance in McDonald's, we believe models with candidate region proposals are not the right fit for the task. We can see that Yolo is 3.3x faster than RCNNs during inference. \n",
    "\n",
    "We have created our models to be scaled to any number of classes. Making it easier for it to adapt to different fast-food chains.\n",
    "\n",
    "In the future, we would like to focus on different types of items and continual learning. Since items in fast food chains keep on changing, it would be very expensive to train a new model every single time. Moreover, we would also like to explore current SOTA models for object detection."
   ]
  },
  {
   "cell_type": "markdown",
   "metadata": {},
   "source": [
    "## References"
   ]
  },
  {
   "cell_type": "markdown",
   "metadata": {},
   "source": [
    "[1] Girshick, Ross et al. \"Rich feature hierarchies for accurate object detection and semantic segmentation.\" (2013).\n",
    "\n",
    "[2] Girshick, Ross. \"Fast R-CNN.\" (2015).\n",
    "\n",
    "[3] Redmon, Joseph et al. \"You Only Look Once: Unified, Real-Time Object Detection.\" (2015).\n"
   ]
  }
 ],
 "metadata": {
  "kernelspec": {
   "display_name": "Python 3.8.0 64-bit",
   "language": "python",
   "name": "python3"
  },
  "language_info": {
   "name": "python",
   "version": "3.8.0"
  },
  "orig_nbformat": 4,
  "vscode": {
   "interpreter": {
    "hash": "d6c06661c7acb561460c17934f18488d13780d7e5457e1d0c6eef3d3ba1e404e"
   }
  }
 },
 "nbformat": 4,
 "nbformat_minor": 2
}
